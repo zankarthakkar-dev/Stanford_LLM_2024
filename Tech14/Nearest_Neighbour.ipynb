{
 "cells": [
  {
   "cell_type": "markdown",
   "metadata": {},
   "source": [
    "# Comprehensive Guide To Approximate Nearest Neighbors Algorithms"
   ]
  },
  {
   "cell_type": "markdown",
   "metadata": {},
   "source": [
    "## Exhaustive Search Usage"
   ]
  },
  {
   "cell_type": "code",
   "execution_count": 15,
   "metadata": {},
   "outputs": [],
   "source": [
    "from annoy import AnnoyIndex\n",
    "import nmslib\n",
    "from pathlib import Path\n",
    "import pandas as pd\n",
    "import time"
   ]
  },
  {
   "cell_type": "markdown",
   "metadata": {},
   "source": [
    "## recrateing movie lesne directly\n"
   ]
  },
  {
   "cell_type": "markdown",
   "metadata": {},
   "source": [
    "### Load and Preprocess the Movie Data\n",
    "You need to prepare your movie data for encoding. For example, you may want to combine the title, description, and genres to form a rich text representation of each movie."
   ]
  },
  {
   "cell_type": "code",
   "execution_count": 2,
   "metadata": {},
   "outputs": [
    {
     "name": "stdout",
     "output_type": "stream",
     "text": [
      "   movie_id              title release_date  video_release_date  \\\n",
      "0         1   Toy Story (1995)  01-Jan-1995                 NaN   \n",
      "1         2   GoldenEye (1995)  01-Jan-1995                 NaN   \n",
      "2         3  Four Rooms (1995)  01-Jan-1995                 NaN   \n",
      "3         4  Get Shorty (1995)  01-Jan-1995                 NaN   \n",
      "4         5     Copycat (1995)  01-Jan-1995                 NaN   \n",
      "\n",
      "                                            IMDb_URL  genre_0  genre_1  \\\n",
      "0  http://us.imdb.com/M/title-exact?Toy%20Story%2...        0        0   \n",
      "1  http://us.imdb.com/M/title-exact?GoldenEye%20(...        0        1   \n",
      "2  http://us.imdb.com/M/title-exact?Four%20Rooms%...        0        0   \n",
      "3  http://us.imdb.com/M/title-exact?Get%20Shorty%...        0        1   \n",
      "4  http://us.imdb.com/M/title-exact?Copycat%20(1995)        0        0   \n",
      "\n",
      "   genre_2  genre_3  genre_4  ...  genre_9  genre_10  genre_11  genre_12  \\\n",
      "0        0        1        1  ...        0         0         0         0   \n",
      "1        1        0        0  ...        0         0         0         0   \n",
      "2        0        0        0  ...        0         0         0         0   \n",
      "3        0        0        0  ...        0         0         0         0   \n",
      "4        0        0        0  ...        0         0         0         0   \n",
      "\n",
      "   genre_13  genre_14  genre_15  genre_16  genre_17  genre_18  \n",
      "0         0         0         0         0         0         0  \n",
      "1         0         0         0         1         0         0  \n",
      "2         0         0         0         1         0         0  \n",
      "3         0         0         0         0         0         0  \n",
      "4         0         0         0         1         0         0  \n",
      "\n",
      "[5 rows x 24 columns]\n"
     ]
    }
   ],
   "source": [
    "# import pandas as pd\n",
    "\n",
    "# Path to the movie metadata file\n",
    "# movies_file_path = 'ml-100k/u.item'\n",
    "movies_file_path = Path('./MovieLens/ml-100k/u.item')\n",
    "# Define all 24 column names based on the dataset description\n",
    "movie_columns = ['movie_id', 'title', 'release_date', 'video_release_date', 'IMDb_URL'] + \\\n",
    "                [f'genre_{i}' for i in range(19)]  # 19 genre columns\n",
    "\n",
    "\n",
    "\n",
    "# Load the data with the correct number of columns\n",
    "movies = pd.read_csv(movies_file_path, sep='|', encoding='latin-1', header=None, names=movie_columns)\n",
    "\n",
    "# Display the first few rows\n",
    "print(movies.head())\n"
   ]
  },
  {
   "cell_type": "code",
   "execution_count": 9,
   "metadata": {},
   "outputs": [
    {
     "name": "stdout",
     "output_type": "stream",
     "text": [
      "   user_id  movie_id  rating  timestamp\n",
      "0      196       242       3  881250949\n",
      "1      186       302       3  891717742\n",
      "2       22       377       1  878887116\n",
      "3      244        51       2  880606923\n",
      "4      166       346       1  886397596\n",
      "MovieLens 100K ratings data saved to movielens_100k_ratings.pickle!\n"
     ]
    }
   ],
   "source": [
    "# import pandas as pd\n",
    "# import pickle\n",
    "\n",
    "# Load the MovieLens 100K ratings data\n",
    "# ratings_file_path = 'ml-100k/u.data'  # Replace with the correct path to the 'u.data' file\n",
    "ratings_file_path = Path('./MovieLens/ml-100k/u.data')\n",
    "\n",
    "# The data does not have headers in the file, so we specify them\n",
    "columns = ['user_id', 'movie_id', 'rating', 'timestamp']\n",
    "ratings = pd.read_csv(ratings_file_path, sep='\\t', names=columns)\n",
    "\n",
    "# Display first few rows of the dataset\n",
    "print(ratings.head())\n",
    "\n",
    "# Save the ratings data as a pickle file\n",
    "with open('movielens_100k_ratings.pickle', 'wb') as f:\n",
    "    pickle.dump(ratings, f)\n",
    "\n",
    "print(\"MovieLens 100K ratings data saved to movielens_100k_ratings.pickle!\")\n"
   ]
  },
  {
   "cell_type": "code",
   "execution_count": null,
   "metadata": {},
   "outputs": [],
   "source": []
  },
  {
   "cell_type": "code",
   "execution_count": 3,
   "metadata": {},
   "outputs": [
    {
     "name": "stdout",
     "output_type": "stream",
     "text": [
      "   movie_id            text_representation\n",
      "0         1   Toy Story (1995) 01-Jan-1995\n",
      "1         2   GoldenEye (1995) 01-Jan-1995\n",
      "2         3  Four Rooms (1995) 01-Jan-1995\n",
      "3         4  Get Shorty (1995) 01-Jan-1995\n",
      "4         5     Copycat (1995) 01-Jan-1995\n"
     ]
    }
   ],
   "source": [
    "# Example: Create a text representation for each movie by combining title and genres\n",
    "movies['text_representation'] = movies['title'] + ' ' + movies['release_date']\n",
    "\n",
    "# Display the dataset with the text representation\n",
    "print(movies[['movie_id', 'text_representation']].head())"
   ]
  },
  {
   "cell_type": "markdown",
   "metadata": {},
   "source": [
    "### Use a Pretrained Model to Generate Embeddings\n",
    "Now, we’ll use a pretrained transformer model to create semantic embeddings for the movie text data. The model will convert the text representation of each movie into a vector of fixed size, capturing its semantic meaning."
   ]
  },
  {
   "cell_type": "code",
   "execution_count": 6,
   "metadata": {},
   "outputs": [
    {
     "name": "stderr",
     "output_type": "stream",
     "text": [
      "c:\\Users\\Hassan\\anaconda3\\envs\\Py39Stanford1\\lib\\site-packages\\sentence_transformers\\cross_encoder\\CrossEncoder.py:13: TqdmExperimentalWarning: Using `tqdm.autonotebook.tqdm` in notebook mode. Use `tqdm.tqdm` instead to force console mode (e.g. in jupyter console)\n",
      "  from tqdm.autonotebook import tqdm, trange\n"
     ]
    },
    {
     "data": {
      "application/vnd.jupyter.widget-view+json": {
       "model_id": "db75c14eead040fca48a08bc5df63591",
       "version_major": 2,
       "version_minor": 0
      },
      "text/plain": [
       "modules.json:   0%|          | 0.00/349 [00:00<?, ?B/s]"
      ]
     },
     "metadata": {},
     "output_type": "display_data"
    },
    {
     "name": "stderr",
     "output_type": "stream",
     "text": [
      "c:\\Users\\Hassan\\anaconda3\\envs\\Py39Stanford1\\lib\\site-packages\\huggingface_hub\\file_download.py:139: UserWarning: `huggingface_hub` cache-system uses symlinks by default to efficiently store duplicated files but your machine does not support them in C:\\Users\\Hassan\\.cache\\huggingface\\hub\\models--sentence-transformers--all-MiniLM-L6-v2. Caching files will still work but in a degraded version that might require more space on your disk. This warning can be disabled by setting the `HF_HUB_DISABLE_SYMLINKS_WARNING` environment variable. For more details, see https://huggingface.co/docs/huggingface_hub/how-to-cache#limitations.\n",
      "To support symlinks on Windows, you either need to activate Developer Mode or to run Python as an administrator. In order to activate developer mode, see this article: https://docs.microsoft.com/en-us/windows/apps/get-started/enable-your-device-for-development\n",
      "  warnings.warn(message)\n"
     ]
    },
    {
     "data": {
      "application/vnd.jupyter.widget-view+json": {
       "model_id": "f7a667cc63534c65a93ac5a23bec3b44",
       "version_major": 2,
       "version_minor": 0
      },
      "text/plain": [
       "config_sentence_transformers.json:   0%|          | 0.00/116 [00:00<?, ?B/s]"
      ]
     },
     "metadata": {},
     "output_type": "display_data"
    },
    {
     "data": {
      "application/vnd.jupyter.widget-view+json": {
       "model_id": "d15214a89dd14de09454777cf3523a44",
       "version_major": 2,
       "version_minor": 0
      },
      "text/plain": [
       "README.md:   0%|          | 0.00/10.7k [00:00<?, ?B/s]"
      ]
     },
     "metadata": {},
     "output_type": "display_data"
    },
    {
     "data": {
      "application/vnd.jupyter.widget-view+json": {
       "model_id": "7c19de44687f4093ba1098ce10603412",
       "version_major": 2,
       "version_minor": 0
      },
      "text/plain": [
       "sentence_bert_config.json:   0%|          | 0.00/53.0 [00:00<?, ?B/s]"
      ]
     },
     "metadata": {},
     "output_type": "display_data"
    },
    {
     "data": {
      "application/vnd.jupyter.widget-view+json": {
       "model_id": "bde22eeb9f3841bdaff4385b872bf33c",
       "version_major": 2,
       "version_minor": 0
      },
      "text/plain": [
       "config.json:   0%|          | 0.00/612 [00:00<?, ?B/s]"
      ]
     },
     "metadata": {},
     "output_type": "display_data"
    },
    {
     "data": {
      "application/vnd.jupyter.widget-view+json": {
       "model_id": "04ec3696178e4dc0ae4c3c906ad47037",
       "version_major": 2,
       "version_minor": 0
      },
      "text/plain": [
       "model.safetensors:   0%|          | 0.00/90.9M [00:00<?, ?B/s]"
      ]
     },
     "metadata": {},
     "output_type": "display_data"
    },
    {
     "data": {
      "application/vnd.jupyter.widget-view+json": {
       "model_id": "49b4ffe23056402c9a11dc7b4f582c17",
       "version_major": 2,
       "version_minor": 0
      },
      "text/plain": [
       "tokenizer_config.json:   0%|          | 0.00/350 [00:00<?, ?B/s]"
      ]
     },
     "metadata": {},
     "output_type": "display_data"
    },
    {
     "data": {
      "application/vnd.jupyter.widget-view+json": {
       "model_id": "a890745a687a46c9a3fe848aa9fc12d8",
       "version_major": 2,
       "version_minor": 0
      },
      "text/plain": [
       "vocab.txt:   0%|          | 0.00/232k [00:00<?, ?B/s]"
      ]
     },
     "metadata": {},
     "output_type": "display_data"
    },
    {
     "data": {
      "application/vnd.jupyter.widget-view+json": {
       "model_id": "3e695ada4dc644a1b3c9b1a33aea8067",
       "version_major": 2,
       "version_minor": 0
      },
      "text/plain": [
       "tokenizer.json:   0%|          | 0.00/466k [00:00<?, ?B/s]"
      ]
     },
     "metadata": {},
     "output_type": "display_data"
    },
    {
     "data": {
      "application/vnd.jupyter.widget-view+json": {
       "model_id": "4e2e2aa73833460e823eaee7815f5bd3",
       "version_major": 2,
       "version_minor": 0
      },
      "text/plain": [
       "special_tokens_map.json:   0%|          | 0.00/112 [00:00<?, ?B/s]"
      ]
     },
     "metadata": {},
     "output_type": "display_data"
    },
    {
     "data": {
      "application/vnd.jupyter.widget-view+json": {
       "model_id": "704c6d3c80204859b33c3b0c67fb75c7",
       "version_major": 2,
       "version_minor": 0
      },
      "text/plain": [
       "1_Pooling/config.json:   0%|          | 0.00/190 [00:00<?, ?B/s]"
      ]
     },
     "metadata": {},
     "output_type": "display_data"
    },
    {
     "data": {
      "application/vnd.jupyter.widget-view+json": {
       "model_id": "ec5175fcec3043ca8b6ab1518926c4f3",
       "version_major": 2,
       "version_minor": 0
      },
      "text/plain": [
       "Batches:   0%|          | 0/53 [00:00<?, ?it/s]"
      ]
     },
     "metadata": {},
     "output_type": "display_data"
    },
    {
     "name": "stderr",
     "output_type": "stream",
     "text": [
      "c:\\Users\\Hassan\\anaconda3\\envs\\Py39Stanford1\\lib\\site-packages\\transformers\\models\\bert\\modeling_bert.py:440: UserWarning: 1Torch was not compiled with flash attention. (Triggered internally at C:\\actions-runner\\_work\\pytorch\\pytorch\\builder\\windows\\pytorch\\aten\\src\\ATen\\native\\transformers\\cuda\\sdp_utils.cpp:455.)\n",
      "  attn_output = torch.nn.functional.scaled_dot_product_attention(\n"
     ]
    },
    {
     "name": "stdout",
     "output_type": "stream",
     "text": [
      "Shape of embeddings: (1682, 384)\n"
     ]
    }
   ],
   "source": [
    "from sentence_transformers import SentenceTransformer\n",
    "\n",
    "# Load a pre-trained model (e.g., 'all-MiniLM-L6-v2' is small and fast)\n",
    "model = SentenceTransformer('all-MiniLM-L6-v2')\n",
    "\n",
    "# Generate semantic embeddings for the movie text representations\n",
    "movie_descriptions = movies['text_representation'].tolist()\n",
    "movie_embeddings = model.encode(movie_descriptions, show_progress_bar=True)\n",
    "\n",
    "# The movie_embeddings is a matrix where each row is the vector for a movie\n",
    "print(f\"Shape of embeddings: {movie_embeddings.shape}\")\n"
   ]
  },
  {
   "cell_type": "markdown",
   "metadata": {},
   "source": [
    "### Save the Encoded Data\n",
    "You can now save these embeddings for future use (e.g., for similarity search or as input to a recommendation model). You might also want to save the movie titles along with the embeddings to keep track of which vector corresponds to which movie."
   ]
  },
  {
   "cell_type": "code",
   "execution_count": 16,
   "metadata": {},
   "outputs": [
    {
     "name": "stdout",
     "output_type": "stream",
     "text": [
      "Movie embeddings saved to 'movie_embeddings.pickle'\n"
     ]
    }
   ],
   "source": [
    "import pickle\n",
    "\n",
    "# Save the movie embeddings and their corresponding titles\n",
    "with open('movie_embeddings.pickle', 'wb') as f:\n",
    "    pickle.dump((movies['movie_id'].tolist(), movie_embeddings), f)\n",
    "\n",
    "print(\"Movie embeddings saved to 'movie_embeddings.pickle'\")\n"
   ]
  },
  {
   "cell_type": "markdown",
   "metadata": {},
   "source": [
    "### Perform Similarity Search (Optional)\n",
    "If your goal is to perform a similarity search (e.g., find similar movies based on their semantic embeddings), you can use FAISS, a library that allows efficient similarity searches over large vector spaces."
   ]
  },
  {
   "cell_type": "code",
   "execution_count": 9,
   "metadata": {},
   "outputs": [
    {
     "name": "stdout",
     "output_type": "stream",
     "text": [
      "Movie ID: 1, Title: Toy Story (1995)\n",
      "Movie ID: 1219, Title: Goofy Movie, A (1995)\n",
      "Movie ID: 1470, Title: Gumby: The Movie (1995)\n",
      "Movie ID: 772, Title: Kids (1995)\n",
      "Movie ID: 93, Title: Welcome to the Dollhouse (1995)\n"
     ]
    }
   ],
   "source": [
    "import faiss\n",
    "import numpy as np\n",
    "\n",
    "# Convert embeddings to a NumPy array\n",
    "movie_embeddings_np = np.array(movie_embeddings)\n",
    "\n",
    "# Create a FAISS index\n",
    "index = faiss.IndexFlatL2(movie_embeddings_np.shape[1])  # L2 distance (Euclidean)\n",
    "index.add(movie_embeddings_np)  # Add embeddings to the index\n",
    "\n",
    "# Search for the 5 most similar movies to the first movie in the dataset\n",
    "query_embedding = movie_embeddings_np[0].reshape(1, -1)\n",
    "distances, indices = index.search(query_embedding, 5)\n",
    "\n",
    "# Print the most similar movies\n",
    "for idx in indices[0]:\n",
    "    print(f\"Movie ID: {movies.iloc[idx]['movie_id']}, Title: {movies.iloc[idx]['title']}\")\n"
   ]
  },
  {
   "cell_type": "code",
   "execution_count": 10,
   "metadata": {},
   "outputs": [],
   "source": [
    "text_representation_array = np.array(movies['text_representation'])"
   ]
  },
  {
   "cell_type": "code",
   "execution_count": 203,
   "metadata": {},
   "outputs": [
    {
     "data": {
      "text/html": [
       "<div>\n",
       "<style scoped>\n",
       "    .dataframe tbody tr th:only-of-type {\n",
       "        vertical-align: middle;\n",
       "    }\n",
       "\n",
       "    .dataframe tbody tr th {\n",
       "        vertical-align: top;\n",
       "    }\n",
       "\n",
       "    .dataframe thead th {\n",
       "        text-align: right;\n",
       "    }\n",
       "</style>\n",
       "<table border=\"1\" class=\"dataframe\">\n",
       "  <thead>\n",
       "    <tr style=\"text-align: right;\">\n",
       "      <th></th>\n",
       "      <th>Query_Results</th>\n",
       "      <th>Index_Time</th>\n",
       "      <th>Search_Time</th>\n",
       "    </tr>\n",
       "    <tr>\n",
       "      <th>NearNeigh_Type</th>\n",
       "      <th></th>\n",
       "      <th></th>\n",
       "      <th></th>\n",
       "    </tr>\n",
       "  </thead>\n",
       "  <tbody>\n",
       "  </tbody>\n",
       "</table>\n",
       "</div>"
      ],
      "text/plain": [
       "Empty DataFrame\n",
       "Columns: [Query_Results, Index_Time, Search_Time]\n",
       "Index: []"
      ]
     },
     "execution_count": 203,
     "metadata": {},
     "output_type": "execute_result"
    }
   ],
   "source": [
    "# dataframe\n",
    "df_NearNeigh = pd.DataFrame(columns=[ 'Query_Results', 'Index_Time', 'Search_Time'])\n",
    "df_NearNeigh.index.name = \"NearNeigh_Type\"\n",
    "df_NearNeigh"
   ]
  },
  {
   "cell_type": "markdown",
   "metadata": {},
   "source": [
    "### copy paper"
   ]
  },
  {
   "cell_type": "code",
   "execution_count": 204,
   "metadata": {},
   "outputs": [],
   "source": [
    "class ExactIndex():\n",
    "    def __init__(self, vectors, labels):\n",
    "        self.dimension = vectors.shape[1]\n",
    "        self.vectors = vectors.astype('float32')\n",
    "        # self.lab\n",
    "        self.labels = labels\n",
    "   \n",
    "    def build(self):\n",
    "        self.index = faiss.IndexFlatL2(self.dimension,)\n",
    "        self.index.add(self.vectors)\n",
    "        \n",
    "    def query(self, vectors, k=10):\n",
    "        distances, indices = self.index.search(vectors, k) \n",
    "        # I expect only query on one vector thus the slice\n",
    "        return [self.labels[i] for i in indices[0]]"
   ]
  },
  {
   "cell_type": "code",
   "execution_count": 205,
   "metadata": {},
   "outputs": [
    {
     "name": "stdout",
     "output_type": "stream",
     "text": [
      "Time to build with IndexFlatL2 0.0029938220977783203\n"
     ]
    }
   ],
   "source": [
    "start_time = time.time()\n",
    "movie_desc = np.array(movies['text_representation'])\n",
    "index = ExactIndex(movie_embeddings_np, movie_desc)\n",
    "index.build()\n",
    "end_time = time.time()\n",
    "index_time = end_time - start_time\n",
    "print(f'Time to build with IndexFlatL2 {end_time - start_time}')\n",
    "NN_Type = 'Exhaustive'\n",
    "# df_NearNeigh.loc[NN_Type] = {'Index_Time':index_time}\n",
    "# df_NearNeigh\n"
   ]
  },
  {
   "cell_type": "code",
   "execution_count": 260,
   "metadata": {},
   "outputs": [
    {
     "data": {
      "text/plain": [
       "645888"
      ]
     },
     "execution_count": 260,
     "metadata": {},
     "output_type": "execute_result"
    }
   ],
   "source": [
    "index.vectors.size"
   ]
  },
  {
   "cell_type": "code",
   "execution_count": 206,
   "metadata": {},
   "outputs": [
    {
     "name": "stdout",
     "output_type": "stream",
     "text": [
      "Time to query with IndexFlatL2 0.002008676528930664\n"
     ]
    },
    {
     "data": {
      "text/html": [
       "<div>\n",
       "<style scoped>\n",
       "    .dataframe tbody tr th:only-of-type {\n",
       "        vertical-align: middle;\n",
       "    }\n",
       "\n",
       "    .dataframe tbody tr th {\n",
       "        vertical-align: top;\n",
       "    }\n",
       "\n",
       "    .dataframe thead th {\n",
       "        text-align: right;\n",
       "    }\n",
       "</style>\n",
       "<table border=\"1\" class=\"dataframe\">\n",
       "  <thead>\n",
       "    <tr style=\"text-align: right;\">\n",
       "      <th></th>\n",
       "      <th>Query_Results</th>\n",
       "      <th>Index_Time</th>\n",
       "      <th>Search_Time</th>\n",
       "    </tr>\n",
       "    <tr>\n",
       "      <th>NearNeigh_Type</th>\n",
       "      <th></th>\n",
       "      <th></th>\n",
       "      <th></th>\n",
       "    </tr>\n",
       "  </thead>\n",
       "  <tbody>\n",
       "    <tr>\n",
       "      <th>Exhaustive</th>\n",
       "      <td>[Toy Story (1995) 01-Jan-1995, Goofy Movie, A ...</td>\n",
       "      <td>0.002994</td>\n",
       "      <td>0.002009</td>\n",
       "    </tr>\n",
       "  </tbody>\n",
       "</table>\n",
       "</div>"
      ],
      "text/plain": [
       "                                                    Query_Results  Index_Time  \\\n",
       "NearNeigh_Type                                                                  \n",
       "Exhaustive      [Toy Story (1995) 01-Jan-1995, Goofy Movie, A ...    0.002994   \n",
       "\n",
       "                Search_Time  \n",
       "NearNeigh_Type               \n",
       "Exhaustive         0.002009  "
      ]
     },
     "execution_count": 206,
     "metadata": {},
     "output_type": "execute_result"
    }
   ],
   "source": [
    "# index.query(data['vector'][0])\n",
    "start_time = time.time()\n",
    "query_results = index.query(movie_embeddings_np[0].reshape(1, -1))\n",
    "# movie_embeddings_np[0]\n",
    "end_time = time.time()\n",
    "print(f'Time to query with IndexFlatL2 {end_time - start_time}')\n",
    "search_time = end_time - start_time\n",
    "df_NearNeigh.loc[NN_Type] = {'Index_Time':index_time,'Search_Time':search_time, 'Query_Results':query_results}\n",
    "df_NearNeigh\n",
    "# search_time"
   ]
  },
  {
   "cell_type": "markdown",
   "metadata": {},
   "source": [
    "### ANN implementaion"
   ]
  },
  {
   "cell_type": "code",
   "execution_count": 207,
   "metadata": {},
   "outputs": [],
   "source": [
    "from annoy import AnnoyIndex\n"
   ]
  },
  {
   "cell_type": "code",
   "execution_count": 208,
   "metadata": {},
   "outputs": [],
   "source": [
    "class AnnoyIndexWrapper():\n",
    "    def __init__(self, vectors, labels):\n",
    "        self.dimension = vectors.shape[1]\n",
    "        self.vectors = vectors.astype('float32')\n",
    "        self.labels = labels\n",
    "    \n",
    "    def build(self, number_of_trees=5):\n",
    "        self.index = AnnoyIndex(self.dimension, 'angular')  # Added metric type\n",
    "        for i, vec in enumerate(self.vectors):\n",
    "            self.index.add_item(i, vec.tolist())\n",
    "        self.index.build(number_of_trees)\n",
    "    \n",
    "    def query(self, vector, k=10):\n",
    "        indices = self.index.get_nns_by_vector(\n",
    "            vector.tolist(), \n",
    "            k, \n",
    "            search_k=-1\n",
    "        )\n",
    "        return [self.labels[i] for i in indices]\n"
   ]
  },
  {
   "cell_type": "code",
   "execution_count": 209,
   "metadata": {},
   "outputs": [
    {
     "name": "stdout",
     "output_type": "stream",
     "text": [
      "Time to build with AnnoyIndex 0.04673123359680176\n"
     ]
    }
   ],
   "source": [
    "start_time = time.time()\n",
    "ann_index = AnnoyIndexWrapper(movie_embeddings_np, movie_desc)\n",
    "ann_index.build()\n",
    "end_time = time.time()\n",
    "print(f'Time to build with AnnoyIndex {end_time - start_time}')\n",
    "NN_Type = 'Annoy'\n",
    "index_time = end_time - start_time\n",
    "# df_NearNeigh.loc[NN_Type] = {'Index_Time':total_time}\n",
    "# df_NearNeigh"
   ]
  },
  {
   "cell_type": "code",
   "execution_count": 255,
   "metadata": {},
   "outputs": [
    {
     "data": {
      "text/plain": [
       "645888"
      ]
     },
     "execution_count": 255,
     "metadata": {},
     "output_type": "execute_result"
    }
   ],
   "source": [
    "ann_index.vectors.size"
   ]
  },
  {
   "cell_type": "code",
   "execution_count": 210,
   "metadata": {},
   "outputs": [
    {
     "name": "stdout",
     "output_type": "stream",
     "text": [
      "Time to query with AnnoyIndex 0.0009992122650146484\n"
     ]
    },
    {
     "data": {
      "text/html": [
       "<div>\n",
       "<style scoped>\n",
       "    .dataframe tbody tr th:only-of-type {\n",
       "        vertical-align: middle;\n",
       "    }\n",
       "\n",
       "    .dataframe tbody tr th {\n",
       "        vertical-align: top;\n",
       "    }\n",
       "\n",
       "    .dataframe thead th {\n",
       "        text-align: right;\n",
       "    }\n",
       "</style>\n",
       "<table border=\"1\" class=\"dataframe\">\n",
       "  <thead>\n",
       "    <tr style=\"text-align: right;\">\n",
       "      <th></th>\n",
       "      <th>Query_Results</th>\n",
       "      <th>Index_Time</th>\n",
       "      <th>Search_Time</th>\n",
       "    </tr>\n",
       "    <tr>\n",
       "      <th>NearNeigh_Type</th>\n",
       "      <th></th>\n",
       "      <th></th>\n",
       "      <th></th>\n",
       "    </tr>\n",
       "  </thead>\n",
       "  <tbody>\n",
       "    <tr>\n",
       "      <th>Exhaustive</th>\n",
       "      <td>[Toy Story (1995) 01-Jan-1995, Goofy Movie, A ...</td>\n",
       "      <td>0.002994</td>\n",
       "      <td>0.002009</td>\n",
       "    </tr>\n",
       "    <tr>\n",
       "      <th>Annoy</th>\n",
       "      <td>[Toy Story (1995) 01-Jan-1995, Goofy Movie, A ...</td>\n",
       "      <td>0.046731</td>\n",
       "      <td>0.000999</td>\n",
       "    </tr>\n",
       "  </tbody>\n",
       "</table>\n",
       "</div>"
      ],
      "text/plain": [
       "                                                    Query_Results  Index_Time  \\\n",
       "NearNeigh_Type                                                                  \n",
       "Exhaustive      [Toy Story (1995) 01-Jan-1995, Goofy Movie, A ...    0.002994   \n",
       "Annoy           [Toy Story (1995) 01-Jan-1995, Goofy Movie, A ...    0.046731   \n",
       "\n",
       "                Search_Time  \n",
       "NearNeigh_Type               \n",
       "Exhaustive         0.002009  \n",
       "Annoy              0.000999  "
      ]
     },
     "execution_count": 210,
     "metadata": {},
     "output_type": "execute_result"
    }
   ],
   "source": [
    "# index.query(data['vector'][0])\n",
    "# ann_index.query(movie_embeddings_np[0].reshape(1, -1))\n",
    "start_time = time.time()\n",
    "query_vector = movie_embeddings_np[0].reshape(-1) \n",
    "query_results = ann_index.query(query_vector)\n",
    "end_time = time.time()\n",
    "print(f'Time to query with AnnoyIndex {end_time - start_time}')\n",
    "search_time = end_time - start_time\n",
    "df_NearNeigh.loc[NN_Type] = {'Index_Time':index_time,'Search_Time':search_time, 'Query_Results':query_results}\n",
    "df_NearNeigh"
   ]
  },
  {
   "cell_type": "markdown",
   "metadata": {},
   "source": [
    "### Vector Encoding Using LSH"
   ]
  },
  {
   "cell_type": "code",
   "execution_count": 211,
   "metadata": {},
   "outputs": [],
   "source": [
    "class LSHIndex():\n",
    "    def __init__(self, vectors, labels):\n",
    "        self.dimension = vectors.shape[1]\n",
    "        self.vectors = vectors.astype('float32')\n",
    "        self.labels = labels    \n",
    "   \n",
    "    def build(self, num_bits=8):\n",
    "        self.index = faiss.IndexLSH(self.dimension, num_bits)\n",
    "        self.index.add(self.vectors)\n",
    "        \n",
    "    def query(self, vectors, k=10):\n",
    "        distances, indices = self.index.search(vectors, k) \n",
    "        # I expect only query on one vector thus the slice\n",
    "        return [self.labels[i] for i in indices[0]]"
   ]
  },
  {
   "cell_type": "code",
   "execution_count": 212,
   "metadata": {},
   "outputs": [
    {
     "name": "stdout",
     "output_type": "stream",
     "text": [
      "Time to build with LSHIndex 0.017951011657714844\n"
     ]
    }
   ],
   "source": [
    "start_time = time.time()\n",
    "index_lsh = LSHIndex(movie_embeddings_np, movie_desc)\n",
    "index_lsh.build()\n",
    "end_time = time.time()\n",
    "print(f'Time to build with LSHIndex {end_time - start_time}')\n",
    "NN_Type = 'LSH'\n",
    "index_time = end_time - start_time\n",
    "# df_NearNeigh.loc[NN_Type] = {'Index_Time':total_time}\n",
    "# df_NearNeigh"
   ]
  },
  {
   "cell_type": "code",
   "execution_count": 254,
   "metadata": {},
   "outputs": [
    {
     "data": {
      "text/plain": [
       "645888"
      ]
     },
     "execution_count": 254,
     "metadata": {},
     "output_type": "execute_result"
    }
   ],
   "source": [
    "index_lsh.vectors.size"
   ]
  },
  {
   "cell_type": "code",
   "execution_count": 213,
   "metadata": {},
   "outputs": [
    {
     "name": "stdout",
     "output_type": "stream",
     "text": [
      "Time to search with LSHIndex 0.0009975433349609375\n"
     ]
    },
    {
     "data": {
      "text/html": [
       "<div>\n",
       "<style scoped>\n",
       "    .dataframe tbody tr th:only-of-type {\n",
       "        vertical-align: middle;\n",
       "    }\n",
       "\n",
       "    .dataframe tbody tr th {\n",
       "        vertical-align: top;\n",
       "    }\n",
       "\n",
       "    .dataframe thead th {\n",
       "        text-align: right;\n",
       "    }\n",
       "</style>\n",
       "<table border=\"1\" class=\"dataframe\">\n",
       "  <thead>\n",
       "    <tr style=\"text-align: right;\">\n",
       "      <th></th>\n",
       "      <th>Query_Results</th>\n",
       "      <th>Index_Time</th>\n",
       "      <th>Search_Time</th>\n",
       "    </tr>\n",
       "    <tr>\n",
       "      <th>NearNeigh_Type</th>\n",
       "      <th></th>\n",
       "      <th></th>\n",
       "      <th></th>\n",
       "    </tr>\n",
       "  </thead>\n",
       "  <tbody>\n",
       "    <tr>\n",
       "      <th>Exhaustive</th>\n",
       "      <td>[Toy Story (1995) 01-Jan-1995, Goofy Movie, A ...</td>\n",
       "      <td>0.002994</td>\n",
       "      <td>0.002009</td>\n",
       "    </tr>\n",
       "    <tr>\n",
       "      <th>Annoy</th>\n",
       "      <td>[Toy Story (1995) 01-Jan-1995, Goofy Movie, A ...</td>\n",
       "      <td>0.046731</td>\n",
       "      <td>0.000999</td>\n",
       "    </tr>\n",
       "    <tr>\n",
       "      <th>LSH</th>\n",
       "      <td>[Toy Story (1995) 01-Jan-1995, From Dusk Till ...</td>\n",
       "      <td>0.017951</td>\n",
       "      <td>0.000998</td>\n",
       "    </tr>\n",
       "  </tbody>\n",
       "</table>\n",
       "</div>"
      ],
      "text/plain": [
       "                                                    Query_Results  Index_Time  \\\n",
       "NearNeigh_Type                                                                  \n",
       "Exhaustive      [Toy Story (1995) 01-Jan-1995, Goofy Movie, A ...    0.002994   \n",
       "Annoy           [Toy Story (1995) 01-Jan-1995, Goofy Movie, A ...    0.046731   \n",
       "LSH             [Toy Story (1995) 01-Jan-1995, From Dusk Till ...    0.017951   \n",
       "\n",
       "                Search_Time  \n",
       "NearNeigh_Type               \n",
       "Exhaustive         0.002009  \n",
       "Annoy              0.000999  \n",
       "LSH                0.000998  "
      ]
     },
     "execution_count": 213,
     "metadata": {},
     "output_type": "execute_result"
    }
   ],
   "source": [
    "# query_vector.reshape(1, -1)\n",
    "start_time = time.time()\n",
    "movie_embeddings_np[0]\n",
    "query_results = index_lsh.query(movie_embeddings_np[0].reshape(1, -1))\n",
    "end_time = time.time()\n",
    "print(f'Time to search with LSHIndex {end_time - start_time}')\n",
    "search_time = end_time - start_time\n",
    "df_NearNeigh.loc[NN_Type] = {'Index_Time':index_time,'Search_Time':search_time, 'Query_Results':query_results}\n",
    "df_NearNeigh"
   ]
  },
  {
   "cell_type": "markdown",
   "metadata": {},
   "source": [
    "### Vector Encoding Using Quantization"
   ]
  },
  {
   "cell_type": "code",
   "execution_count": 214,
   "metadata": {},
   "outputs": [],
   "source": [
    "class IVPQIndex():\n",
    "    def __init__(self, vectors, labels):\n",
    "        self.dimension = vectors.shape[1]\n",
    "        self.vectors = vectors.astype('float32')\n",
    "        self.labels = labels    \n",
    "    \n",
    "    def build(self, \n",
    "              number_of_partition=8, \n",
    "              search_in_x_partitions=2, \n",
    "              subvector_size=8):\n",
    "        quantizer = faiss.IndexFlatL2(self.dimension)\n",
    "        self.index = faiss.IndexIVFPQ(quantizer, \n",
    "                                      self.dimension, \n",
    "                                      number_of_partition, \n",
    "                                      search_in_x_partitions, \n",
    "                                      subvector_size)\n",
    "        self.index.train(self.vectors)\n",
    "        self.index.add(self.vectors)\n",
    "        \n",
    "    def query(self, vectors, k=10):\n",
    "        distances, indices = self.index.search(vectors, k) \n",
    "        # I expect only query on one vector thus the slice\n",
    "        return [self.labels[i] for i in indices[0]]"
   ]
  },
  {
   "cell_type": "code",
   "execution_count": 250,
   "metadata": {},
   "outputs": [
    {
     "data": {
      "text/plain": [
       "645888"
      ]
     },
     "execution_count": 250,
     "metadata": {},
     "output_type": "execute_result"
    }
   ],
   "source": [
    "Quant_index.vectors.size"
   ]
  },
  {
   "cell_type": "code",
   "execution_count": 215,
   "metadata": {},
   "outputs": [
    {
     "name": "stdout",
     "output_type": "stream",
     "text": [
      "Time to build with Quant_index 0.13763141632080078\n"
     ]
    }
   ],
   "source": [
    "start_time = time.time()\n",
    "Quant_index = IVPQIndex(movie_embeddings_np, movie_desc)\n",
    "Quant_index.build()\n",
    "end_time = time.time()\n",
    "print(f'Time to build with Quant_index {end_time - start_time}')\n",
    "NN_Type = 'Quant'\n",
    "index_time = end_time - start_time\n",
    "# df_NearNeigh.loc[NN_Type] = {'Index_Time':total_time}\n",
    "# df_NearNeigh"
   ]
  },
  {
   "cell_type": "code",
   "execution_count": 216,
   "metadata": {},
   "outputs": [
    {
     "name": "stdout",
     "output_type": "stream",
     "text": [
      "Time to search  with Quant_index 0.0009982585906982422\n"
     ]
    },
    {
     "data": {
      "text/html": [
       "<div>\n",
       "<style scoped>\n",
       "    .dataframe tbody tr th:only-of-type {\n",
       "        vertical-align: middle;\n",
       "    }\n",
       "\n",
       "    .dataframe tbody tr th {\n",
       "        vertical-align: top;\n",
       "    }\n",
       "\n",
       "    .dataframe thead th {\n",
       "        text-align: right;\n",
       "    }\n",
       "</style>\n",
       "<table border=\"1\" class=\"dataframe\">\n",
       "  <thead>\n",
       "    <tr style=\"text-align: right;\">\n",
       "      <th></th>\n",
       "      <th>Query_Results</th>\n",
       "      <th>Index_Time</th>\n",
       "      <th>Search_Time</th>\n",
       "    </tr>\n",
       "    <tr>\n",
       "      <th>NearNeigh_Type</th>\n",
       "      <th></th>\n",
       "      <th></th>\n",
       "      <th></th>\n",
       "    </tr>\n",
       "  </thead>\n",
       "  <tbody>\n",
       "    <tr>\n",
       "      <th>Exhaustive</th>\n",
       "      <td>[Toy Story (1995) 01-Jan-1995, Goofy Movie, A ...</td>\n",
       "      <td>0.002994</td>\n",
       "      <td>0.002009</td>\n",
       "    </tr>\n",
       "    <tr>\n",
       "      <th>Annoy</th>\n",
       "      <td>[Toy Story (1995) 01-Jan-1995, Goofy Movie, A ...</td>\n",
       "      <td>0.046731</td>\n",
       "      <td>0.000999</td>\n",
       "    </tr>\n",
       "    <tr>\n",
       "      <th>LSH</th>\n",
       "      <td>[Toy Story (1995) 01-Jan-1995, From Dusk Till ...</td>\n",
       "      <td>0.017951</td>\n",
       "      <td>0.000998</td>\n",
       "    </tr>\n",
       "    <tr>\n",
       "      <th>Quant</th>\n",
       "      <td>[Toy Story (1995) 01-Jan-1995, Goofy Movie, A ...</td>\n",
       "      <td>0.137631</td>\n",
       "      <td>0.000998</td>\n",
       "    </tr>\n",
       "  </tbody>\n",
       "</table>\n",
       "</div>"
      ],
      "text/plain": [
       "                                                    Query_Results  Index_Time  \\\n",
       "NearNeigh_Type                                                                  \n",
       "Exhaustive      [Toy Story (1995) 01-Jan-1995, Goofy Movie, A ...    0.002994   \n",
       "Annoy           [Toy Story (1995) 01-Jan-1995, Goofy Movie, A ...    0.046731   \n",
       "LSH             [Toy Story (1995) 01-Jan-1995, From Dusk Till ...    0.017951   \n",
       "Quant           [Toy Story (1995) 01-Jan-1995, Goofy Movie, A ...    0.137631   \n",
       "\n",
       "                Search_Time  \n",
       "NearNeigh_Type               \n",
       "Exhaustive         0.002009  \n",
       "Annoy              0.000999  \n",
       "LSH                0.000998  \n",
       "Quant              0.000998  "
      ]
     },
     "execution_count": 216,
     "metadata": {},
     "output_type": "execute_result"
    }
   ],
   "source": [
    "start_time = time.time()\n",
    "query_results = Quant_index.query(movie_embeddings_np[0].reshape(1, -1))\n",
    "end_time = time.time()\n",
    "print(f'Time to search  with Quant_index {end_time - start_time}')\n",
    "search_time = end_time - start_time\n",
    "df_NearNeigh.loc[NN_Type] = {'Index_Time':index_time,'Search_Time':search_time, 'Query_Results':query_results}\n",
    "df_NearNeigh"
   ]
  },
  {
   "cell_type": "markdown",
   "metadata": {},
   "source": [
    "### Hierarchical Navigable Small World Graphs"
   ]
  },
  {
   "cell_type": "code",
   "execution_count": 217,
   "metadata": {},
   "outputs": [],
   "source": [
    "class NMSLIBIndex():\n",
    "    def __init__(self, vectors, labels):\n",
    "        self.dimention = vectors.shape[1]\n",
    "        self.vectors = vectors.astype('float32')\n",
    "        self.labels = labels\n",
    "    def build(self):\n",
    "        self.index = nmslib.init(method='hnsw', space='cosinesimil')\n",
    "        self.index.addDataPointBatch(self.vectors)\n",
    "        self.index.createIndex({'post': 2})\n",
    "        \n",
    "    def query(self, vector, k=10):\n",
    "        indices = self.index.knnQuery(vector, k=k)\n",
    "        return [self.labels[i] for i in indices[0]]"
   ]
  },
  {
   "cell_type": "code",
   "execution_count": 218,
   "metadata": {},
   "outputs": [
    {
     "name": "stdout",
     "output_type": "stream",
     "text": [
      "Time to build with nmslib 0.19882559776306152\n"
     ]
    }
   ],
   "source": [
    "import nmslib\n",
    "movie_desc = np.array(movies['text_representation'])\n",
    "start_time = time.time()\n",
    "NSM_index = NMSLIBIndex(movie_embeddings_np, movie_desc)\n",
    "NSM_index.build()\n",
    "end_time = time.time()\n",
    "print(f'Time to build with nmslib {end_time - start_time}')\n",
    "NN_Type = 'SWG'\n",
    "index_time = end_time - start_time\n",
    "# df_NearNeigh.loc[NN_Type] = {'Index_Time':total_time}\n",
    "# df_NearNeigh"
   ]
  },
  {
   "cell_type": "code",
   "execution_count": 253,
   "metadata": {},
   "outputs": [
    {
     "name": "stdout",
     "output_type": "stream",
     "text": [
      "The size of the vectors is: 645888\n"
     ]
    }
   ],
   "source": [
    "# index_size = NSM_index.get_total_points()\n",
    "index_size = NSM_index.vectors.size\n",
    "print(f\"The size of the vectors is: {index_size}\")\n"
   ]
  },
  {
   "cell_type": "code",
   "execution_count": 219,
   "metadata": {},
   "outputs": [
    {
     "name": "stdout",
     "output_type": "stream",
     "text": [
      "Time to search with nmslib 0.000820159912109375\n"
     ]
    },
    {
     "data": {
      "text/html": [
       "<div>\n",
       "<style scoped>\n",
       "    .dataframe tbody tr th:only-of-type {\n",
       "        vertical-align: middle;\n",
       "    }\n",
       "\n",
       "    .dataframe tbody tr th {\n",
       "        vertical-align: top;\n",
       "    }\n",
       "\n",
       "    .dataframe thead th {\n",
       "        text-align: right;\n",
       "    }\n",
       "</style>\n",
       "<table border=\"1\" class=\"dataframe\">\n",
       "  <thead>\n",
       "    <tr style=\"text-align: right;\">\n",
       "      <th></th>\n",
       "      <th>Query_Results</th>\n",
       "      <th>Index_Time</th>\n",
       "      <th>Search_Time</th>\n",
       "    </tr>\n",
       "    <tr>\n",
       "      <th>NearNeigh_Type</th>\n",
       "      <th></th>\n",
       "      <th></th>\n",
       "      <th></th>\n",
       "    </tr>\n",
       "  </thead>\n",
       "  <tbody>\n",
       "    <tr>\n",
       "      <th>Exhaustive</th>\n",
       "      <td>[Toy Story (1995) 01-Jan-1995, Goofy Movie, A ...</td>\n",
       "      <td>0.002994</td>\n",
       "      <td>0.002009</td>\n",
       "    </tr>\n",
       "    <tr>\n",
       "      <th>Annoy</th>\n",
       "      <td>[Toy Story (1995) 01-Jan-1995, Goofy Movie, A ...</td>\n",
       "      <td>0.046731</td>\n",
       "      <td>0.000999</td>\n",
       "    </tr>\n",
       "    <tr>\n",
       "      <th>LSH</th>\n",
       "      <td>[Toy Story (1995) 01-Jan-1995, From Dusk Till ...</td>\n",
       "      <td>0.017951</td>\n",
       "      <td>0.000998</td>\n",
       "    </tr>\n",
       "    <tr>\n",
       "      <th>Quant</th>\n",
       "      <td>[Toy Story (1995) 01-Jan-1995, Goofy Movie, A ...</td>\n",
       "      <td>0.137631</td>\n",
       "      <td>0.000998</td>\n",
       "    </tr>\n",
       "    <tr>\n",
       "      <th>SWG</th>\n",
       "      <td>[Toy Story (1995) 01-Jan-1995, Goofy Movie, A ...</td>\n",
       "      <td>0.198826</td>\n",
       "      <td>0.000820</td>\n",
       "    </tr>\n",
       "  </tbody>\n",
       "</table>\n",
       "</div>"
      ],
      "text/plain": [
       "                                                    Query_Results  Index_Time  \\\n",
       "NearNeigh_Type                                                                  \n",
       "Exhaustive      [Toy Story (1995) 01-Jan-1995, Goofy Movie, A ...    0.002994   \n",
       "Annoy           [Toy Story (1995) 01-Jan-1995, Goofy Movie, A ...    0.046731   \n",
       "LSH             [Toy Story (1995) 01-Jan-1995, From Dusk Till ...    0.017951   \n",
       "Quant           [Toy Story (1995) 01-Jan-1995, Goofy Movie, A ...    0.137631   \n",
       "SWG             [Toy Story (1995) 01-Jan-1995, Goofy Movie, A ...    0.198826   \n",
       "\n",
       "                Search_Time  \n",
       "NearNeigh_Type               \n",
       "Exhaustive         0.002009  \n",
       "Annoy              0.000999  \n",
       "LSH                0.000998  \n",
       "Quant              0.000998  \n",
       "SWG                0.000820  "
      ]
     },
     "execution_count": 219,
     "metadata": {},
     "output_type": "execute_result"
    }
   ],
   "source": [
    "start_time = time.time()\n",
    "# print (f'search {NSM_index.query(movie_embeddings_np[0].reshape(1, -1))}')\n",
    "query_results = NSM_index.query(movie_embeddings_np[0].reshape(1, -1))\n",
    "end_time = time.time()\n",
    "print(f'Time to search with nmslib {end_time - start_time}')\n",
    "search_time = end_time - start_time\n",
    "df_NearNeigh.loc[NN_Type] = {'Index_Time':index_time,'Search_Time':search_time, 'Query_Results':query_results}\n",
    "df_NearNeigh"
   ]
  },
  {
   "cell_type": "code",
   "execution_count": 220,
   "metadata": {},
   "outputs": [
    {
     "data": {
      "image/png": "[encoded data removed]",
      "text/plain": [
       "<Figure size 1000x600 with 1 Axes>"
      ]
     },
     "metadata": {},
     "output_type": "display_data"
    }
   ],
   "source": [
    "import pandas as pd\n",
    "import matplotlib.pyplot as plt\n",
    "\n",
    "# Example DataFrame\n",
    "# df = pd.DataFrame({'A': [1, 2, 3, 4], 'B': [5, 6, 7, 8]}, index=['item1', 'item2', 'item3', 'item4'])\n",
    "\n",
    "# Scatter plot of columns A vs B\n",
    "plt.figure(figsize=(10, 6))\n",
    "plt.scatter(df_NearNeigh['Index_Time'], df_NearNeigh['Search_Time'])\n",
    "\n",
    "# Annotating each point with its index label\n",
    "for idx, row in df_NearNeigh.iterrows():\n",
    "    plt.annotate(idx, (row['Index_Time'], row['Search_Time']), textcoords=\"offset points\", xytext=(5, 5), ha='center')\n",
    "\n",
    "# Adding labels and title\n",
    "plt.xlabel('Index_Time')\n",
    "plt.ylabel('Search_Time')\n",
    "plt.title('Scatter Plot of Index_Time vs Search_Time with Index Labels')\n",
    "\n",
    "# Show plot\n",
    "plt.grid()\n",
    "plt.show()\n"
   ]
  },
  {
   "cell_type": "code",
   "execution_count": 221,
   "metadata": {},
   "outputs": [
    {
     "name": "stdout",
     "output_type": "stream",
     "text": [
      "Index(['Query_Results', 'Index_Time', 'Search_Time', 'Col_1', 'Col_2', 'Col_3',\n",
      "       'Col_4', 'Col_5', 'Col_6', 'Col_7', 'Col_8', 'Col_9', 'Col_10'],\n",
      "      dtype='object')\n"
     ]
    }
   ],
   "source": [
    "import pandas as pd\n",
    "\n",
    "# Example DataFrame\n",
    "# df = pd.DataFrame({'ListColumn': [[1, 2, 3], [4, 5, 6], [7, 8, 9]]})\n",
    "df = df_NearNeigh.copy()\n",
    "\n",
    "# Expand the list column into separate columns\n",
    "expanded_df = pd.DataFrame(df['Query_Results'].tolist(), index=df.index)\n",
    "\n",
    "# Optionally, rename the new columns (e.g., Col_1, Col_2, ...)\n",
    "expanded_df.columns = [f'Col_{i+1}' for i in range(expanded_df.shape[1])]\n",
    "\n",
    "# Drop the original list column and concatenate the expanded columns\n",
    "# df = df.drop('Query_Results', axis=1).join(expanded_df)\n",
    "df = df.join(expanded_df)\n",
    "# Display the resulting DataFrame\n",
    "print(df.columns)"
   ]
  },
  {
   "cell_type": "code",
   "execution_count": 222,
   "metadata": {},
   "outputs": [
    {
     "data": {
      "text/plain": [
       "Index(['Query_Results', 'Index_Time', 'Search_Time', 'Col_1', 'Col_2', 'Col_3',\n",
       "       'Col_4', 'Col_5', 'Col_6', 'Col_7', 'Col_8', 'Col_9', 'Col_10'],\n",
       "      dtype='object')"
      ]
     },
     "execution_count": 222,
     "metadata": {},
     "output_type": "execute_result"
    }
   ],
   "source": [
    "df.columns"
   ]
  },
  {
   "cell_type": "code",
   "execution_count": 241,
   "metadata": {},
   "outputs": [
    {
     "data": {
      "image/png": "[encoded data removed]",
      "text/plain": [
       "<Figure size 1000x600 with 1 Axes>"
      ]
     },
     "metadata": {},
     "output_type": "display_data"
    },
    {
     "data": {
      "text/html": [
       "<div>\n",
       "<style scoped>\n",
       "    .dataframe tbody tr th:only-of-type {\n",
       "        vertical-align: middle;\n",
       "    }\n",
       "\n",
       "    .dataframe tbody tr th {\n",
       "        vertical-align: top;\n",
       "    }\n",
       "\n",
       "    .dataframe thead th {\n",
       "        text-align: right;\n",
       "    }\n",
       "</style>\n",
       "<table border=\"1\" class=\"dataframe\">\n",
       "  <thead>\n",
       "    <tr style=\"text-align: right;\">\n",
       "      <th></th>\n",
       "      <th>Query_Results</th>\n",
       "      <th>Index_Time</th>\n",
       "      <th>Search_Time</th>\n",
       "      <th>Col_1</th>\n",
       "      <th>Col_2</th>\n",
       "      <th>Col_3</th>\n",
       "      <th>Col_4</th>\n",
       "      <th>Col_5</th>\n",
       "      <th>Col_6</th>\n",
       "      <th>Col_7</th>\n",
       "      <th>Col_8</th>\n",
       "      <th>Col_9</th>\n",
       "      <th>Col_10</th>\n",
       "      <th>Percentage_Match</th>\n",
       "    </tr>\n",
       "    <tr>\n",
       "      <th>NearNeigh_Type</th>\n",
       "      <th></th>\n",
       "      <th></th>\n",
       "      <th></th>\n",
       "      <th></th>\n",
       "      <th></th>\n",
       "      <th></th>\n",
       "      <th></th>\n",
       "      <th></th>\n",
       "      <th></th>\n",
       "      <th></th>\n",
       "      <th></th>\n",
       "      <th></th>\n",
       "      <th></th>\n",
       "      <th></th>\n",
       "    </tr>\n",
       "  </thead>\n",
       "  <tbody>\n",
       "    <tr>\n",
       "      <th>Exhaustive</th>\n",
       "      <td>[Toy Story (1995) 01-Jan-1995, Goofy Movie, A ...</td>\n",
       "      <td>0.002994</td>\n",
       "      <td>0.002009</td>\n",
       "      <td>Toy Story (1995) 01-Jan-1995</td>\n",
       "      <td>Goofy Movie, A (1995) 01-Jan-1995</td>\n",
       "      <td>Gumby: The Movie (1995) 01-Jan-1995</td>\n",
       "      <td>Kids (1995) 01-Jan-1995</td>\n",
       "      <td>Welcome to the Dollhouse (1995) 24-May-1996</td>\n",
       "      <td>Little Princess, A (1995) 01-Jan-1995</td>\n",
       "      <td>Candyman: Farewell to the Flesh (1995) 01-Jan-...</td>\n",
       "      <td>Castle Freak (1995) 01-Jan-1995</td>\n",
       "      <td>Boys Life (1995) 01-Jan-1995</td>\n",
       "      <td>Friday (1995) 01-Jan-1995</td>\n",
       "      <td>100.0</td>\n",
       "    </tr>\n",
       "    <tr>\n",
       "      <th>Annoy</th>\n",
       "      <td>[Toy Story (1995) 01-Jan-1995, Goofy Movie, A ...</td>\n",
       "      <td>0.046731</td>\n",
       "      <td>0.000999</td>\n",
       "      <td>Toy Story (1995) 01-Jan-1995</td>\n",
       "      <td>Goofy Movie, A (1995) 01-Jan-1995</td>\n",
       "      <td>Gumby: The Movie (1995) 01-Jan-1995</td>\n",
       "      <td>Kids (1995) 01-Jan-1995</td>\n",
       "      <td>Welcome to the Dollhouse (1995) 24-May-1996</td>\n",
       "      <td>Little Princess, A (1995) 01-Jan-1995</td>\n",
       "      <td>Candyman: Farewell to the Flesh (1995) 01-Jan-...</td>\n",
       "      <td>Castle Freak (1995) 01-Jan-1995</td>\n",
       "      <td>Boys Life (1995) 01-Jan-1995</td>\n",
       "      <td>Friday (1995) 01-Jan-1995</td>\n",
       "      <td>100.0</td>\n",
       "    </tr>\n",
       "    <tr>\n",
       "      <th>LSH</th>\n",
       "      <td>[Toy Story (1995) 01-Jan-1995, From Dusk Till ...</td>\n",
       "      <td>0.017951</td>\n",
       "      <td>0.000998</td>\n",
       "      <td>Toy Story (1995) 01-Jan-1995</td>\n",
       "      <td>From Dusk Till Dawn (1996) 05-Feb-1996</td>\n",
       "      <td>Hoop Dreams (1994) 01-Jan-1994</td>\n",
       "      <td>Faster Pussycat! Kill! Kill! (1965) 01-Jan-1965</td>\n",
       "      <td>Aristocats, The (1970) 01-Jan-1970</td>\n",
       "      <td>Godfather, The (1972) 01-Jan-1972</td>\n",
       "      <td>Breakfast at Tiffany's (1961) 01-Jan-1961</td>\n",
       "      <td>Swingers (1996) 18-Oct-1996</td>\n",
       "      <td>Basic Instinct (1992) 01-Jan-1992</td>\n",
       "      <td>Abyss, The (1989) 01-Jan-1989</td>\n",
       "      <td>10.0</td>\n",
       "    </tr>\n",
       "    <tr>\n",
       "      <th>Quant</th>\n",
       "      <td>[Toy Story (1995) 01-Jan-1995, Goofy Movie, A ...</td>\n",
       "      <td>0.137631</td>\n",
       "      <td>0.000998</td>\n",
       "      <td>Toy Story (1995) 01-Jan-1995</td>\n",
       "      <td>Goofy Movie, A (1995) 01-Jan-1995</td>\n",
       "      <td>French Twist (Gazon maudit) (1995) 01-Jan-1995</td>\n",
       "      <td>In the Bleak Midwinter (1995) 23-Feb-1996</td>\n",
       "      <td>Target (1995) 28-Feb-1996</td>\n",
       "      <td>Frighteners, The (1996) 19-Jul-1996</td>\n",
       "      <td>Strange Days (1995) 01-Jan-1995</td>\n",
       "      <td>Gumby: The Movie (1995) 01-Jan-1995</td>\n",
       "      <td>Castle Freak (1995) 01-Jan-1995</td>\n",
       "      <td>Wings of Courage (1995) 01-Jan-1995</td>\n",
       "      <td>20.0</td>\n",
       "    </tr>\n",
       "    <tr>\n",
       "      <th>SWG</th>\n",
       "      <td>[Toy Story (1995) 01-Jan-1995, Goofy Movie, A ...</td>\n",
       "      <td>0.198826</td>\n",
       "      <td>0.000820</td>\n",
       "      <td>Toy Story (1995) 01-Jan-1995</td>\n",
       "      <td>Goofy Movie, A (1995) 01-Jan-1995</td>\n",
       "      <td>Gumby: The Movie (1995) 01-Jan-1995</td>\n",
       "      <td>Kids (1995) 01-Jan-1995</td>\n",
       "      <td>Welcome to the Dollhouse (1995) 24-May-1996</td>\n",
       "      <td>Little Princess, A (1995) 01-Jan-1995</td>\n",
       "      <td>Candyman: Farewell to the Flesh (1995) 01-Jan-...</td>\n",
       "      <td>Castle Freak (1995) 01-Jan-1995</td>\n",
       "      <td>Boys Life (1995) 01-Jan-1995</td>\n",
       "      <td>Friday (1995) 01-Jan-1995</td>\n",
       "      <td>100.0</td>\n",
       "    </tr>\n",
       "  </tbody>\n",
       "</table>\n",
       "</div>"
      ],
      "text/plain": [
       "                                                    Query_Results  Index_Time  \\\n",
       "NearNeigh_Type                                                                  \n",
       "Exhaustive      [Toy Story (1995) 01-Jan-1995, Goofy Movie, A ...    0.002994   \n",
       "Annoy           [Toy Story (1995) 01-Jan-1995, Goofy Movie, A ...    0.046731   \n",
       "LSH             [Toy Story (1995) 01-Jan-1995, From Dusk Till ...    0.017951   \n",
       "Quant           [Toy Story (1995) 01-Jan-1995, Goofy Movie, A ...    0.137631   \n",
       "SWG             [Toy Story (1995) 01-Jan-1995, Goofy Movie, A ...    0.198826   \n",
       "\n",
       "                Search_Time                         Col_1  \\\n",
       "NearNeigh_Type                                              \n",
       "Exhaustive         0.002009  Toy Story (1995) 01-Jan-1995   \n",
       "Annoy              0.000999  Toy Story (1995) 01-Jan-1995   \n",
       "LSH                0.000998  Toy Story (1995) 01-Jan-1995   \n",
       "Quant              0.000998  Toy Story (1995) 01-Jan-1995   \n",
       "SWG                0.000820  Toy Story (1995) 01-Jan-1995   \n",
       "\n",
       "                                                 Col_2  \\\n",
       "NearNeigh_Type                                           \n",
       "Exhaustive           Goofy Movie, A (1995) 01-Jan-1995   \n",
       "Annoy                Goofy Movie, A (1995) 01-Jan-1995   \n",
       "LSH             From Dusk Till Dawn (1996) 05-Feb-1996   \n",
       "Quant                Goofy Movie, A (1995) 01-Jan-1995   \n",
       "SWG                  Goofy Movie, A (1995) 01-Jan-1995   \n",
       "\n",
       "                                                         Col_3  \\\n",
       "NearNeigh_Type                                                   \n",
       "Exhaustive                 Gumby: The Movie (1995) 01-Jan-1995   \n",
       "Annoy                      Gumby: The Movie (1995) 01-Jan-1995   \n",
       "LSH                             Hoop Dreams (1994) 01-Jan-1994   \n",
       "Quant           French Twist (Gazon maudit) (1995) 01-Jan-1995   \n",
       "SWG                        Gumby: The Movie (1995) 01-Jan-1995   \n",
       "\n",
       "                                                          Col_4  \\\n",
       "NearNeigh_Type                                                    \n",
       "Exhaustive                              Kids (1995) 01-Jan-1995   \n",
       "Annoy                                   Kids (1995) 01-Jan-1995   \n",
       "LSH             Faster Pussycat! Kill! Kill! (1965) 01-Jan-1965   \n",
       "Quant                 In the Bleak Midwinter (1995) 23-Feb-1996   \n",
       "SWG                                     Kids (1995) 01-Jan-1995   \n",
       "\n",
       "                                                      Col_5  \\\n",
       "NearNeigh_Type                                                \n",
       "Exhaustive      Welcome to the Dollhouse (1995) 24-May-1996   \n",
       "Annoy           Welcome to the Dollhouse (1995) 24-May-1996   \n",
       "LSH                      Aristocats, The (1970) 01-Jan-1970   \n",
       "Quant                             Target (1995) 28-Feb-1996   \n",
       "SWG             Welcome to the Dollhouse (1995) 24-May-1996   \n",
       "\n",
       "                                                Col_6  \\\n",
       "NearNeigh_Type                                          \n",
       "Exhaustive      Little Princess, A (1995) 01-Jan-1995   \n",
       "Annoy           Little Princess, A (1995) 01-Jan-1995   \n",
       "LSH                 Godfather, The (1972) 01-Jan-1972   \n",
       "Quant             Frighteners, The (1996) 19-Jul-1996   \n",
       "SWG             Little Princess, A (1995) 01-Jan-1995   \n",
       "\n",
       "                                                            Col_7  \\\n",
       "NearNeigh_Type                                                      \n",
       "Exhaustive      Candyman: Farewell to the Flesh (1995) 01-Jan-...   \n",
       "Annoy           Candyman: Farewell to the Flesh (1995) 01-Jan-...   \n",
       "LSH                     Breakfast at Tiffany's (1961) 01-Jan-1961   \n",
       "Quant                             Strange Days (1995) 01-Jan-1995   \n",
       "SWG             Candyman: Farewell to the Flesh (1995) 01-Jan-...   \n",
       "\n",
       "                                              Col_8  \\\n",
       "NearNeigh_Type                                        \n",
       "Exhaustive          Castle Freak (1995) 01-Jan-1995   \n",
       "Annoy               Castle Freak (1995) 01-Jan-1995   \n",
       "LSH                     Swingers (1996) 18-Oct-1996   \n",
       "Quant           Gumby: The Movie (1995) 01-Jan-1995   \n",
       "SWG                 Castle Freak (1995) 01-Jan-1995   \n",
       "\n",
       "                                            Col_9  \\\n",
       "NearNeigh_Type                                      \n",
       "Exhaustive           Boys Life (1995) 01-Jan-1995   \n",
       "Annoy                Boys Life (1995) 01-Jan-1995   \n",
       "LSH             Basic Instinct (1992) 01-Jan-1992   \n",
       "Quant             Castle Freak (1995) 01-Jan-1995   \n",
       "SWG                  Boys Life (1995) 01-Jan-1995   \n",
       "\n",
       "                                             Col_10  Percentage_Match  \n",
       "NearNeigh_Type                                                         \n",
       "Exhaustive                Friday (1995) 01-Jan-1995             100.0  \n",
       "Annoy                     Friday (1995) 01-Jan-1995             100.0  \n",
       "LSH                   Abyss, The (1989) 01-Jan-1989              10.0  \n",
       "Quant           Wings of Courage (1995) 01-Jan-1995              20.0  \n",
       "SWG                       Friday (1995) 01-Jan-1995             100.0  "
      ]
     },
     "execution_count": 241,
     "metadata": {},
     "output_type": "execute_result"
    }
   ],
   "source": [
    "# import pandas as pd\n",
    "\n",
    "# # Example DataFrame\n",
    "# df = pd.DataFrame({\n",
    "#     'A': ['x', 'y', 'z', 'w'],\n",
    "#     'B': [10, 20, 30, 40],\n",
    "#     'Col_1': [1, 2, 1, 4],\n",
    "#     'Col_2': [5, 6, 5, 8],\n",
    "#     'Col_3': [9, 10, 9, 12],\n",
    "#     'Col_4': [13, 14, 13, 16],\n",
    "#     'Col_5': [17, 18, 17, 20],\n",
    "#     'Col_6': [21, 22, 21, 24],\n",
    "#     'Col_7': [25, 26, 25, 28],\n",
    "#     'Col_8': [29, 30, 29, 32],\n",
    "#     'Col_9': [33, 34, 33, 36],\n",
    "#     'Col_10': [37, 38, 37, 40]\n",
    "# })\n",
    "\n",
    "# Get the values of the first row for columns Col_1 to Col_10\n",
    "first_row = df.iloc[0][['Col_1', 'Col_2', 'Col_3', 'Col_4', 'Col_5', \n",
    "                        'Col_6', 'Col_7', 'Col_8', 'Col_9', 'Col_10']]\n",
    "\n",
    "# Calculate the percentage match for each row compared to the first row\n",
    "percentage_match = (df[['Col_1', 'Col_2', 'Col_3', 'Col_4', 'Col_5', \n",
    "                        'Col_6', 'Col_7', 'Col_8', 'Col_9', 'Col_10']] == first_row).mean(axis=1) * 100\n",
    "\n",
    "# Add the percentage match as a new column in the DataFrame\n",
    "df['Percentage_Match'] = percentage_match\n",
    "\n",
    "plt.figure(figsize=(10, 6))\n",
    "plt.scatter(df['Index_Time'], df['Search_Time'], s=percentage_match**2, alpha=0.6, edgecolors='w')\n",
    "\n",
    "# Annotating each point with its index label\n",
    "for idx, row in df.iterrows():\n",
    "    plt.annotate(idx, (row['Index_Time'], row['Search_Time']), textcoords=\"offset points\", xytext=(5, 5), ha='center')\n",
    "\n",
    "\n",
    "# Adding labels and title\n",
    "plt.xlabel('Index_Time')\n",
    "plt.ylabel('Search_Time')\n",
    "plt.title('Scatter Plot of Index_Time vs Search_Time with Point Sizes Based on Percentage_Match')\n",
    "\n",
    "# Display the plot\n",
    "plt.grid()\n",
    "plt.show()\n",
    "# Display the DataFrame\n",
    "df\n"
   ]
  },
  {
   "cell_type": "code",
   "execution_count": 224,
   "metadata": {},
   "outputs": [
    {
     "data": {
      "image/png": "[encoded data removed]",
      "text/plain": [
       "<Figure size 1000x600 with 1 Axes>"
      ]
     },
     "metadata": {},
     "output_type": "display_data"
    }
   ],
   "source": [
    "# # Generate a colormap\n",
    "# colors = plt.cm.viridis(np.linspace(0, 1, len(df)))\n",
    "\n",
    "# # Scatter plot of A vs B with point sizes based on Percentage_Match and different colors\n",
    "# plt.figure(figsize=(10, 6))\n",
    "# scatter = plt.scatter(df['Index_Time'], df['Search_Time'], s=percentage_match**2, c=colors, alpha=0.6, edgecolors='w')\n",
    "\n",
    "# # Annotating each point with its index label\n",
    "# for idx, row in df.iterrows():\n",
    "#     plt.annotate(idx, (row['Index_Time'], row['Search_Time']), textcoords=\"offset points\", xytext=(5, 5), ha='center')\n",
    "\n",
    "# plt.yscale('log')\n",
    "# plt.xscale('log')\n",
    "# # Adding labels and title\n",
    "# plt.xlabel('Index_Time')\n",
    "# plt.ylabel('Search_Time')\n",
    "# plt.title('Scatter Plot of Index_Time vs Search_Time with Point Sizes Based on Percentage_Match and Different Colors')\n",
    "\n",
    "# # Display the plot\n",
    "# plt.grid()\n",
    "# plt.show()"
   ]
  },
  {
   "cell_type": "code",
   "execution_count": 236,
   "metadata": {},
   "outputs": [
    {
     "data": {
      "text/html": [
       "<div>\n",
       "<style scoped>\n",
       "    .dataframe tbody tr th:only-of-type {\n",
       "        vertical-align: middle;\n",
       "    }\n",
       "\n",
       "    .dataframe tbody tr th {\n",
       "        vertical-align: top;\n",
       "    }\n",
       "\n",
       "    .dataframe thead th {\n",
       "        text-align: right;\n",
       "    }\n",
       "</style>\n",
       "<table border=\"1\" class=\"dataframe\">\n",
       "  <thead>\n",
       "    <tr style=\"text-align: right;\">\n",
       "      <th></th>\n",
       "      <th>Index_Time(ms)</th>\n",
       "      <th>Search_Time(ms)</th>\n",
       "      <th>Percentage_Match</th>\n",
       "    </tr>\n",
       "    <tr>\n",
       "      <th>NearNeigh_Type</th>\n",
       "      <th></th>\n",
       "      <th></th>\n",
       "      <th></th>\n",
       "    </tr>\n",
       "  </thead>\n",
       "  <tbody>\n",
       "    <tr>\n",
       "      <th>Exhaustive</th>\n",
       "      <td>2.993822</td>\n",
       "      <td>2.008677</td>\n",
       "      <td>100.0</td>\n",
       "    </tr>\n",
       "    <tr>\n",
       "      <th>Annoy</th>\n",
       "      <td>46.731234</td>\n",
       "      <td>0.999212</td>\n",
       "      <td>100.0</td>\n",
       "    </tr>\n",
       "    <tr>\n",
       "      <th>LSH</th>\n",
       "      <td>17.951012</td>\n",
       "      <td>0.997543</td>\n",
       "      <td>10.0</td>\n",
       "    </tr>\n",
       "    <tr>\n",
       "      <th>Quant</th>\n",
       "      <td>137.631416</td>\n",
       "      <td>0.998259</td>\n",
       "      <td>20.0</td>\n",
       "    </tr>\n",
       "    <tr>\n",
       "      <th>SWG</th>\n",
       "      <td>198.825598</td>\n",
       "      <td>0.820160</td>\n",
       "      <td>100.0</td>\n",
       "    </tr>\n",
       "  </tbody>\n",
       "</table>\n",
       "</div>"
      ],
      "text/plain": [
       "                Index_Time(ms)  Search_Time(ms)  Percentage_Match\n",
       "NearNeigh_Type                                                   \n",
       "Exhaustive            2.993822         2.008677             100.0\n",
       "Annoy                46.731234         0.999212             100.0\n",
       "LSH                  17.951012         0.997543              10.0\n",
       "Quant               137.631416         0.998259              20.0\n",
       "SWG                 198.825598         0.820160             100.0"
      ]
     },
     "execution_count": 236,
     "metadata": {},
     "output_type": "execute_result"
    }
   ],
   "source": [
    "df\n",
    "df_sum = df[['Index_Time', 'Search_Time', 'Percentage_Match']].copy()\n",
    "df_sum [['Index_Time', 'Search_Time']] = df_sum [['Index_Time', 'Search_Time']] * 1000\n",
    "df_sum.rename (columns = {'Index_Time':'Index_Time(ms)','Search_Time':'Search_Time(ms)' }, inplace = True)\n",
    "df_sum"
   ]
  },
  {
   "cell_type": "code",
   "execution_count": 239,
   "metadata": {},
   "outputs": [
    {
     "data": {
      "image/png": "[encoded data removed]",
      "text/plain": [
       "<Figure size 1000x600 with 1 Axes>"
      ]
     },
     "metadata": {},
     "output_type": "display_data"
    }
   ],
   "source": [
    "# Generate a colormap\n",
    "colors = plt.cm.viridis(np.linspace(0, 1, len(df_sum)))\n",
    "\n",
    "# Scatter plot of A vs B with point sizes based on Percentage_Match and different colors\n",
    "plt.figure(figsize=(10, 6))\n",
    "scatter = plt.scatter(df_sum['Index_Time(ms)'], df_sum['Search_Time(ms)'], s=percentage_match**2, c=colors, alpha=0.6, edgecolors='w')\n",
    "\n",
    "# Annotating each point with its index label\n",
    "for idx, row in df_sum.iterrows():\n",
    "    plt.annotate(idx, (row['Index_Time(ms)'], row['Search_Time(ms)']), textcoords=\"offset points\", xytext=(5, 5), ha='center')\n",
    "\n",
    "plt.yscale('log')\n",
    "plt.xscale('log')\n",
    "# Adding labels and title\n",
    "plt.xlabel('Index_Time(ms)')\n",
    "plt.ylabel('Search_Time(ms)')\n",
    "plt.title('Index_Time vs Search_Time, Bubble Size = Accuracy')\n",
    "\n",
    "# Display the plot\n",
    "plt.grid()\n",
    "plt.show()"
   ]
  }
 ],
 "metadata": {
  "kernelspec": {
   "display_name": "Py39Stanford1",
   "language": "python",
   "name": "python3"
  },
  "language_info": {
   "codemirror_mode": {
    "name": "ipython",
    "version": 3
   },
   "file_extension": ".py",
   "mimetype": "text/x-python",
   "name": "python",
   "nbconvert_exporter": "python",
   "pygments_lexer": "ipython3",
   "version": "3.9.19"
  }
 },
 "nbformat": 4,
 "nbformat_minor": 2
}
